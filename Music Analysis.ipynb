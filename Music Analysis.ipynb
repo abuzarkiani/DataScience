{
 "cells": [
  {
   "cell_type": "markdown",
   "id": "c5b499e5",
   "metadata": {},
   "source": [
    "# Tasks"
   ]
  },
  {
   "cell_type": "markdown",
   "id": "582c7e8d",
   "metadata": {},
   "source": [
    "Consolidate the data so that we do not double count plays coming from feeds that belong to the same station\n",
    "   If you do not find the parent station for a given feed, just default to the feed info and use that as your 'station' instead.\n"
   ]
  },
  {
   "cell_type": "markdown",
   "id": "5b7f4710",
   "metadata": {},
   "source": [
    "# Importing Libraries"
   ]
  },
  {
   "cell_type": "code",
   "execution_count": 2,
   "id": "185a3f62",
   "metadata": {},
   "outputs": [],
   "source": [
    "import pandas as pd"
   ]
  },
  {
   "cell_type": "markdown",
   "id": "9f50850e",
   "metadata": {},
   "source": [
    "# Reading Data"
   ]
  },
  {
   "cell_type": "markdown",
   "id": "237414a7",
   "metadata": {},
   "source": [
    "Copying dataset to new data frames so we won't change original dataset"
   ]
  },
  {
   "cell_type": "code",
   "execution_count": 3,
   "id": "626743e1",
   "metadata": {},
   "outputs": [],
   "source": [
    "radio_station =pd.read_csv('feed_station_mapping.csv')\n",
    "\n",
    "radiostation_df = radio_station.copy()"
   ]
  },
  {
   "cell_type": "code",
   "execution_count": 4,
   "id": "0753a0e5",
   "metadata": {},
   "outputs": [],
   "source": [
    "consumption =pd.read_csv('consumption_data.csv')\n",
    "\n",
    "consumption_df = consumption.copy()"
   ]
  },
  {
   "cell_type": "markdown",
   "id": "368c239f",
   "metadata": {},
   "source": [
    "# Looking at data frames structure"
   ]
  },
  {
   "cell_type": "code",
   "execution_count": 5,
   "id": "e0f2d2bb",
   "metadata": {},
   "outputs": [
    {
     "data": {
      "text/html": [
       "<div>\n",
       "<style scoped>\n",
       "    .dataframe tbody tr th:only-of-type {\n",
       "        vertical-align: middle;\n",
       "    }\n",
       "\n",
       "    .dataframe tbody tr th {\n",
       "        vertical-align: top;\n",
       "    }\n",
       "\n",
       "    .dataframe thead th {\n",
       "        text-align: right;\n",
       "    }\n",
       "</style>\n",
       "<table border=\"1\" class=\"dataframe\">\n",
       "  <thead>\n",
       "    <tr style=\"text-align: right;\">\n",
       "      <th></th>\n",
       "      <th>Feed_Id</th>\n",
       "      <th>SMP_Station</th>\n",
       "    </tr>\n",
       "  </thead>\n",
       "  <tbody>\n",
       "    <tr>\n",
       "      <th>0</th>\n",
       "      <td>feed_id_01</td>\n",
       "      <td>smp_station_name_1027</td>\n",
       "    </tr>\n",
       "    <tr>\n",
       "      <th>1</th>\n",
       "      <td>feed_id_02</td>\n",
       "      <td>smp_station_name_94</td>\n",
       "    </tr>\n",
       "    <tr>\n",
       "      <th>2</th>\n",
       "      <td>feed_id_03</td>\n",
       "      <td>smp_station_name_500</td>\n",
       "    </tr>\n",
       "    <tr>\n",
       "      <th>3</th>\n",
       "      <td>feed_id_04</td>\n",
       "      <td>smp_station_name_346</td>\n",
       "    </tr>\n",
       "    <tr>\n",
       "      <th>4</th>\n",
       "      <td>feed_id_06</td>\n",
       "      <td>smp_station_name_732</td>\n",
       "    </tr>\n",
       "  </tbody>\n",
       "</table>\n",
       "</div>"
      ],
      "text/plain": [
       "      Feed_Id            SMP_Station\n",
       "0  feed_id_01  smp_station_name_1027\n",
       "1  feed_id_02    smp_station_name_94\n",
       "2  feed_id_03   smp_station_name_500\n",
       "3  feed_id_04   smp_station_name_346\n",
       "4  feed_id_06   smp_station_name_732"
      ]
     },
     "execution_count": 5,
     "metadata": {},
     "output_type": "execute_result"
    }
   ],
   "source": [
    "radiostation_df.head()"
   ]
  },
  {
   "cell_type": "code",
   "execution_count": 6,
   "id": "047707e6",
   "metadata": {},
   "outputs": [
    {
     "data": {
      "text/plain": [
       "(1125, 2)"
      ]
     },
     "execution_count": 6,
     "metadata": {},
     "output_type": "execute_result"
    }
   ],
   "source": [
    "radiostation_df.shape"
   ]
  },
  {
   "cell_type": "code",
   "execution_count": 7,
   "id": "fe5c6398",
   "metadata": {},
   "outputs": [
    {
     "data": {
      "text/html": [
       "<div>\n",
       "<style scoped>\n",
       "    .dataframe tbody tr th:only-of-type {\n",
       "        vertical-align: middle;\n",
       "    }\n",
       "\n",
       "    .dataframe tbody tr th {\n",
       "        vertical-align: top;\n",
       "    }\n",
       "\n",
       "    .dataframe thead th {\n",
       "        text-align: right;\n",
       "    }\n",
       "</style>\n",
       "<table border=\"1\" class=\"dataframe\">\n",
       "  <thead>\n",
       "    <tr style=\"text-align: right;\">\n",
       "      <th></th>\n",
       "      <th>Stamp</th>\n",
       "      <th>Track</th>\n",
       "      <th>Artist</th>\n",
       "      <th>Feed_Id</th>\n",
       "      <th>Feed_Name</th>\n",
       "    </tr>\n",
       "  </thead>\n",
       "  <tbody>\n",
       "    <tr>\n",
       "      <th>0</th>\n",
       "      <td>2019-06-07 18:38:00 +0000 UTC</td>\n",
       "      <td>Song_02</td>\n",
       "      <td>artist_08</td>\n",
       "      <td>feed_id_1377</td>\n",
       "      <td>feed_name_1183</td>\n",
       "    </tr>\n",
       "    <tr>\n",
       "      <th>1</th>\n",
       "      <td>2019-06-08 09:04:00 +0000 UTC</td>\n",
       "      <td>Song_02</td>\n",
       "      <td>artist_08</td>\n",
       "      <td>feed_id_1377</td>\n",
       "      <td>feed_name_1183</td>\n",
       "    </tr>\n",
       "    <tr>\n",
       "      <th>2</th>\n",
       "      <td>2019-06-08 19:51:00 +0000 UTC</td>\n",
       "      <td>Song_02</td>\n",
       "      <td>artist_08</td>\n",
       "      <td>feed_id_1377</td>\n",
       "      <td>feed_name_1183</td>\n",
       "    </tr>\n",
       "    <tr>\n",
       "      <th>3</th>\n",
       "      <td>2019-06-09 20:52:00 +0000 UTC</td>\n",
       "      <td>Song_02</td>\n",
       "      <td>artist_08</td>\n",
       "      <td>feed_id_1377</td>\n",
       "      <td>feed_name_1183</td>\n",
       "    </tr>\n",
       "    <tr>\n",
       "      <th>4</th>\n",
       "      <td>2019-06-10 11:06:00 +0000 UTC</td>\n",
       "      <td>Song_02</td>\n",
       "      <td>artist_08</td>\n",
       "      <td>feed_id_1377</td>\n",
       "      <td>feed_name_1183</td>\n",
       "    </tr>\n",
       "  </tbody>\n",
       "</table>\n",
       "</div>"
      ],
      "text/plain": [
       "                           Stamp   Track      Artist       Feed_Id  \\\n",
       "0  2019-06-07 18:38:00 +0000 UTC  Song_02  artist_08  feed_id_1377   \n",
       "1  2019-06-08 09:04:00 +0000 UTC  Song_02  artist_08  feed_id_1377   \n",
       "2  2019-06-08 19:51:00 +0000 UTC  Song_02  artist_08  feed_id_1377   \n",
       "3  2019-06-09 20:52:00 +0000 UTC  Song_02  artist_08  feed_id_1377   \n",
       "4  2019-06-10 11:06:00 +0000 UTC  Song_02  artist_08  feed_id_1377   \n",
       "\n",
       "        Feed_Name  \n",
       "0  feed_name_1183  \n",
       "1  feed_name_1183  \n",
       "2  feed_name_1183  \n",
       "3  feed_name_1183  \n",
       "4  feed_name_1183  "
      ]
     },
     "execution_count": 7,
     "metadata": {},
     "output_type": "execute_result"
    }
   ],
   "source": [
    "consumption_df.head()"
   ]
  },
  {
   "cell_type": "code",
   "execution_count": 8,
   "id": "66524edd",
   "metadata": {},
   "outputs": [
    {
     "data": {
      "text/plain": [
       "(521974, 5)"
      ]
     },
     "execution_count": 8,
     "metadata": {},
     "output_type": "execute_result"
    }
   ],
   "source": [
    "consumption_df.shape"
   ]
  },
  {
   "cell_type": "markdown",
   "id": "1e312c56",
   "metadata": {},
   "source": [
    "# Looking for Missing values"
   ]
  },
  {
   "cell_type": "markdown",
   "id": "e6e45192",
   "metadata": {},
   "source": [
    "Both data frames look pretty good as they don't have any missing values"
   ]
  },
  {
   "cell_type": "code",
   "execution_count": 9,
   "id": "7e6e9979",
   "metadata": {},
   "outputs": [
    {
     "data": {
      "text/plain": [
       "Feed_Id        0\n",
       "SMP_Station    0\n",
       "dtype: int64"
      ]
     },
     "execution_count": 9,
     "metadata": {},
     "output_type": "execute_result"
    }
   ],
   "source": [
    "radiostation_df.isnull().sum()"
   ]
  },
  {
   "cell_type": "code",
   "execution_count": 10,
   "id": "83f1b588",
   "metadata": {},
   "outputs": [
    {
     "data": {
      "text/plain": [
       "Stamp        0\n",
       "Track        0\n",
       "Artist       0\n",
       "Feed_Id      0\n",
       "Feed_Name    0\n",
       "dtype: int64"
      ]
     },
     "execution_count": 10,
     "metadata": {},
     "output_type": "execute_result"
    }
   ],
   "source": [
    "consumption_df.isnull().sum()"
   ]
  },
  {
   "cell_type": "markdown",
   "id": "cbe17ace",
   "metadata": {},
   "source": [
    "# Looking for Duplicate Values"
   ]
  },
  {
   "cell_type": "code",
   "execution_count": 11,
   "id": "16f0baa8",
   "metadata": {},
   "outputs": [
    {
     "data": {
      "text/plain": [
       "1125"
      ]
     },
     "execution_count": 11,
     "metadata": {},
     "output_type": "execute_result"
    }
   ],
   "source": [
    "radiostation_df.Feed_Id.nunique()"
   ]
  },
  {
   "cell_type": "code",
   "execution_count": 12,
   "id": "b3b90940",
   "metadata": {},
   "outputs": [
    {
     "data": {
      "text/plain": [
       "0"
      ]
     },
     "execution_count": 12,
     "metadata": {},
     "output_type": "execute_result"
    }
   ],
   "source": [
    "radiostation_df.Feed_Id.duplicated().sum()"
   ]
  },
  {
   "cell_type": "code",
   "execution_count": 13,
   "id": "282f6457",
   "metadata": {},
   "outputs": [
    {
     "data": {
      "text/plain": [
       "3"
      ]
     },
     "execution_count": 13,
     "metadata": {},
     "output_type": "execute_result"
    }
   ],
   "source": [
    "radiostation_df.SMP_Station.duplicated().sum()"
   ]
  },
  {
   "cell_type": "code",
   "execution_count": 14,
   "id": "d6784191",
   "metadata": {},
   "outputs": [
    {
     "data": {
      "text/html": [
       "<div>\n",
       "<style scoped>\n",
       "    .dataframe tbody tr th:only-of-type {\n",
       "        vertical-align: middle;\n",
       "    }\n",
       "\n",
       "    .dataframe tbody tr th {\n",
       "        vertical-align: top;\n",
       "    }\n",
       "\n",
       "    .dataframe thead th {\n",
       "        text-align: right;\n",
       "    }\n",
       "</style>\n",
       "<table border=\"1\" class=\"dataframe\">\n",
       "  <thead>\n",
       "    <tr style=\"text-align: right;\">\n",
       "      <th></th>\n",
       "      <th>Feed_Id</th>\n",
       "      <th>SMP_Station</th>\n",
       "    </tr>\n",
       "  </thead>\n",
       "  <tbody>\n",
       "    <tr>\n",
       "      <th>616</th>\n",
       "      <td>feed_id_396</td>\n",
       "      <td>smp_station_name_1068</td>\n",
       "    </tr>\n",
       "    <tr>\n",
       "      <th>758</th>\n",
       "      <td>feed_id_557</td>\n",
       "      <td>smp_station_name_722</td>\n",
       "    </tr>\n",
       "    <tr>\n",
       "      <th>895</th>\n",
       "      <td>feed_id_736</td>\n",
       "      <td>smp_station_name_154</td>\n",
       "    </tr>\n",
       "  </tbody>\n",
       "</table>\n",
       "</div>"
      ],
      "text/plain": [
       "         Feed_Id            SMP_Station\n",
       "616  feed_id_396  smp_station_name_1068\n",
       "758  feed_id_557   smp_station_name_722\n",
       "895  feed_id_736   smp_station_name_154"
      ]
     },
     "execution_count": 14,
     "metadata": {},
     "output_type": "execute_result"
    }
   ],
   "source": [
    "radiostation_df.loc[radiostation_df.SMP_Station.duplicated(), :]"
   ]
  },
  {
   "cell_type": "markdown",
   "id": "adf35679",
   "metadata": {},
   "source": [
    "### Before Consolidating both data frames I found that there are more feed_ids in consumption data frame than radio station mapping data frame"
   ]
  },
  {
   "cell_type": "code",
   "execution_count": 15,
   "id": "a36245c5",
   "metadata": {},
   "outputs": [
    {
     "data": {
      "text/plain": [
       "1122"
      ]
     },
     "execution_count": 15,
     "metadata": {},
     "output_type": "execute_result"
    }
   ],
   "source": [
    "radiostation_df.SMP_Station.nunique()"
   ]
  },
  {
   "cell_type": "code",
   "execution_count": 16,
   "id": "95e62943",
   "metadata": {},
   "outputs": [
    {
     "data": {
      "text/plain": [
       "1479"
      ]
     },
     "execution_count": 16,
     "metadata": {},
     "output_type": "execute_result"
    }
   ],
   "source": [
    "consumption_df.Feed_Id.nunique()"
   ]
  },
  {
   "cell_type": "markdown",
   "id": "d2ea33a8",
   "metadata": {},
   "source": [
    "# Consolidating the data"
   ]
  },
  {
   "cell_type": "markdown",
   "id": "47dddb42",
   "metadata": {},
   "source": [
    "### Creating new data frame to have consolidated data"
   ]
  },
  {
   "cell_type": "code",
   "execution_count": 17,
   "id": "fff7286e",
   "metadata": {},
   "outputs": [],
   "source": [
    "radioconsumption_df = pd.merge(radiostation_df, consumption_df, how='right')"
   ]
  },
  {
   "cell_type": "code",
   "execution_count": 18,
   "id": "c9bb10ab",
   "metadata": {},
   "outputs": [
    {
     "data": {
      "text/plain": [
       "(521974, 6)"
      ]
     },
     "execution_count": 18,
     "metadata": {},
     "output_type": "execute_result"
    }
   ],
   "source": [
    "radioconsumption_df.shape"
   ]
  },
  {
   "cell_type": "code",
   "execution_count": 19,
   "id": "8645ae22",
   "metadata": {},
   "outputs": [
    {
     "data": {
      "text/plain": [
       "Index(['Feed_Id', 'SMP_Station', 'Stamp', 'Track ', 'Artist', 'Feed_Name'], dtype='object')"
      ]
     },
     "execution_count": 19,
     "metadata": {},
     "output_type": "execute_result"
    }
   ],
   "source": [
    "radioconsumption_df.columns"
   ]
  },
  {
   "cell_type": "code",
   "execution_count": 20,
   "id": "97a9758d",
   "metadata": {},
   "outputs": [
    {
     "data": {
      "text/html": [
       "<div>\n",
       "<style scoped>\n",
       "    .dataframe tbody tr th:only-of-type {\n",
       "        vertical-align: middle;\n",
       "    }\n",
       "\n",
       "    .dataframe tbody tr th {\n",
       "        vertical-align: top;\n",
       "    }\n",
       "\n",
       "    .dataframe thead th {\n",
       "        text-align: right;\n",
       "    }\n",
       "</style>\n",
       "<table border=\"1\" class=\"dataframe\">\n",
       "  <thead>\n",
       "    <tr style=\"text-align: right;\">\n",
       "      <th></th>\n",
       "      <th>Feed_Id</th>\n",
       "      <th>SMP_Station</th>\n",
       "      <th>Stamp</th>\n",
       "      <th>Track</th>\n",
       "      <th>Artist</th>\n",
       "      <th>Feed_Name</th>\n",
       "    </tr>\n",
       "  </thead>\n",
       "  <tbody>\n",
       "    <tr>\n",
       "      <th>0</th>\n",
       "      <td>feed_id_1377</td>\n",
       "      <td>smp_station_name_294</td>\n",
       "      <td>2019-06-07 18:38:00 +0000 UTC</td>\n",
       "      <td>Song_02</td>\n",
       "      <td>artist_08</td>\n",
       "      <td>feed_name_1183</td>\n",
       "    </tr>\n",
       "    <tr>\n",
       "      <th>1</th>\n",
       "      <td>feed_id_1377</td>\n",
       "      <td>smp_station_name_294</td>\n",
       "      <td>2019-06-08 09:04:00 +0000 UTC</td>\n",
       "      <td>Song_02</td>\n",
       "      <td>artist_08</td>\n",
       "      <td>feed_name_1183</td>\n",
       "    </tr>\n",
       "    <tr>\n",
       "      <th>2</th>\n",
       "      <td>feed_id_1377</td>\n",
       "      <td>smp_station_name_294</td>\n",
       "      <td>2019-06-08 19:51:00 +0000 UTC</td>\n",
       "      <td>Song_02</td>\n",
       "      <td>artist_08</td>\n",
       "      <td>feed_name_1183</td>\n",
       "    </tr>\n",
       "    <tr>\n",
       "      <th>3</th>\n",
       "      <td>feed_id_1377</td>\n",
       "      <td>smp_station_name_294</td>\n",
       "      <td>2019-06-09 20:52:00 +0000 UTC</td>\n",
       "      <td>Song_02</td>\n",
       "      <td>artist_08</td>\n",
       "      <td>feed_name_1183</td>\n",
       "    </tr>\n",
       "    <tr>\n",
       "      <th>4</th>\n",
       "      <td>feed_id_1377</td>\n",
       "      <td>smp_station_name_294</td>\n",
       "      <td>2019-06-10 11:06:00 +0000 UTC</td>\n",
       "      <td>Song_02</td>\n",
       "      <td>artist_08</td>\n",
       "      <td>feed_name_1183</td>\n",
       "    </tr>\n",
       "  </tbody>\n",
       "</table>\n",
       "</div>"
      ],
      "text/plain": [
       "        Feed_Id           SMP_Station                          Stamp   Track   \\\n",
       "0  feed_id_1377  smp_station_name_294  2019-06-07 18:38:00 +0000 UTC  Song_02   \n",
       "1  feed_id_1377  smp_station_name_294  2019-06-08 09:04:00 +0000 UTC  Song_02   \n",
       "2  feed_id_1377  smp_station_name_294  2019-06-08 19:51:00 +0000 UTC  Song_02   \n",
       "3  feed_id_1377  smp_station_name_294  2019-06-09 20:52:00 +0000 UTC  Song_02   \n",
       "4  feed_id_1377  smp_station_name_294  2019-06-10 11:06:00 +0000 UTC  Song_02   \n",
       "\n",
       "      Artist       Feed_Name  \n",
       "0  artist_08  feed_name_1183  \n",
       "1  artist_08  feed_name_1183  \n",
       "2  artist_08  feed_name_1183  \n",
       "3  artist_08  feed_name_1183  \n",
       "4  artist_08  feed_name_1183  "
      ]
     },
     "execution_count": 20,
     "metadata": {},
     "output_type": "execute_result"
    }
   ],
   "source": [
    "radioconsumption_df.head()"
   ]
  },
  {
   "cell_type": "markdown",
   "id": "4c3e2f5e",
   "metadata": {},
   "source": [
    "### Further clean the data as you deem approriate in order to perform an analysis on this dataset"
   ]
  },
  {
   "cell_type": "markdown",
   "id": "c23d882e",
   "metadata": {},
   "source": [
    "# Renaming Attributes"
   ]
  },
  {
   "cell_type": "code",
   "execution_count": 21,
   "id": "829a8211",
   "metadata": {},
   "outputs": [],
   "source": [
    "radioconsumption_df.rename(\n",
    "    columns={\n",
    "        \"Feed_Id\": \"Feed_Id\",\n",
    "        \"SMP_Station\": \"Radio_Station\",\n",
    "        \"Stamp\": \"Time_Stamp\",\n",
    "        \"Track\": \"Song\",\n",
    "        \"Artist\": \"Artist\",\n",
    "        \"Feed_Name\": \"Feed_Name\"\n",
    "        \n",
    "    },\n",
    "    inplace=True\n",
    ")"
   ]
  },
  {
   "cell_type": "markdown",
   "id": "c1de0929",
   "metadata": {},
   "source": [
    "# Looking for Null values"
   ]
  },
  {
   "cell_type": "code",
   "execution_count": 22,
   "id": "e7614c9e",
   "metadata": {},
   "outputs": [
    {
     "data": {
      "text/plain": [
       "35174"
      ]
     },
     "execution_count": 22,
     "metadata": {},
     "output_type": "execute_result"
    }
   ],
   "source": [
    "radioconsumption_df['Radio_Station'].isnull().sum()"
   ]
  },
  {
   "cell_type": "code",
   "execution_count": 23,
   "id": "816b7214",
   "metadata": {},
   "outputs": [
    {
     "data": {
      "text/html": [
       "<div>\n",
       "<style scoped>\n",
       "    .dataframe tbody tr th:only-of-type {\n",
       "        vertical-align: middle;\n",
       "    }\n",
       "\n",
       "    .dataframe tbody tr th {\n",
       "        vertical-align: top;\n",
       "    }\n",
       "\n",
       "    .dataframe thead th {\n",
       "        text-align: right;\n",
       "    }\n",
       "</style>\n",
       "<table border=\"1\" class=\"dataframe\">\n",
       "  <thead>\n",
       "    <tr style=\"text-align: right;\">\n",
       "      <th></th>\n",
       "      <th>Feed_Id</th>\n",
       "      <th>Radio_Station</th>\n",
       "      <th>Time_Stamp</th>\n",
       "      <th>Track</th>\n",
       "      <th>Artist</th>\n",
       "      <th>Feed_Name</th>\n",
       "    </tr>\n",
       "  </thead>\n",
       "  <tbody>\n",
       "    <tr>\n",
       "      <th>387446</th>\n",
       "      <td>feed_id_569</td>\n",
       "      <td>NaN</td>\n",
       "      <td>2019-01-16 03:44:25 +0000 UTC</td>\n",
       "      <td>Song_01</td>\n",
       "      <td>artist_02</td>\n",
       "      <td>feed_name_93</td>\n",
       "    </tr>\n",
       "    <tr>\n",
       "      <th>387447</th>\n",
       "      <td>feed_id_569</td>\n",
       "      <td>NaN</td>\n",
       "      <td>2019-01-01 01:34:12 +0000 UTC</td>\n",
       "      <td>Song_04</td>\n",
       "      <td>artist_07</td>\n",
       "      <td>feed_name_93</td>\n",
       "    </tr>\n",
       "    <tr>\n",
       "      <th>387448</th>\n",
       "      <td>feed_id_569</td>\n",
       "      <td>NaN</td>\n",
       "      <td>2019-01-09 06:27:42 +0000 UTC</td>\n",
       "      <td>Song_04</td>\n",
       "      <td>artist_07</td>\n",
       "      <td>feed_name_93</td>\n",
       "    </tr>\n",
       "    <tr>\n",
       "      <th>387449</th>\n",
       "      <td>feed_id_569</td>\n",
       "      <td>NaN</td>\n",
       "      <td>2019-01-11 09:09:31 +0000 UTC</td>\n",
       "      <td>Song_04</td>\n",
       "      <td>artist_07</td>\n",
       "      <td>feed_name_93</td>\n",
       "    </tr>\n",
       "    <tr>\n",
       "      <th>387450</th>\n",
       "      <td>feed_id_569</td>\n",
       "      <td>NaN</td>\n",
       "      <td>2019-01-16 00:40:36 +0000 UTC</td>\n",
       "      <td>Song_04</td>\n",
       "      <td>artist_07</td>\n",
       "      <td>feed_name_93</td>\n",
       "    </tr>\n",
       "    <tr>\n",
       "      <th>...</th>\n",
       "      <td>...</td>\n",
       "      <td>...</td>\n",
       "      <td>...</td>\n",
       "      <td>...</td>\n",
       "      <td>...</td>\n",
       "      <td>...</td>\n",
       "    </tr>\n",
       "    <tr>\n",
       "      <th>422615</th>\n",
       "      <td>feed_id_663</td>\n",
       "      <td>NaN</td>\n",
       "      <td>2020-08-17 05:00:53 +0000 UTC</td>\n",
       "      <td>Song_04</td>\n",
       "      <td>artist_07</td>\n",
       "      <td>feed_name_915</td>\n",
       "    </tr>\n",
       "    <tr>\n",
       "      <th>422616</th>\n",
       "      <td>feed_id_663</td>\n",
       "      <td>NaN</td>\n",
       "      <td>2020-09-03 23:56:57 +0000 UTC</td>\n",
       "      <td>Song_04</td>\n",
       "      <td>artist_07</td>\n",
       "      <td>feed_name_915</td>\n",
       "    </tr>\n",
       "    <tr>\n",
       "      <th>422617</th>\n",
       "      <td>feed_id_663</td>\n",
       "      <td>NaN</td>\n",
       "      <td>2020-09-27 03:30:52 +0000 UTC</td>\n",
       "      <td>Song_04</td>\n",
       "      <td>artist_07</td>\n",
       "      <td>feed_name_915</td>\n",
       "    </tr>\n",
       "    <tr>\n",
       "      <th>422618</th>\n",
       "      <td>feed_id_663</td>\n",
       "      <td>NaN</td>\n",
       "      <td>2020-08-06 02:30:10 +0000 UTC</td>\n",
       "      <td>Song_08</td>\n",
       "      <td>artist_01</td>\n",
       "      <td>feed_name_915</td>\n",
       "    </tr>\n",
       "    <tr>\n",
       "      <th>422619</th>\n",
       "      <td>feed_id_663</td>\n",
       "      <td>NaN</td>\n",
       "      <td>2020-07-01 02:44:26 +0000 UTC</td>\n",
       "      <td>Song_05</td>\n",
       "      <td>artist_03</td>\n",
       "      <td>feed_name_915</td>\n",
       "    </tr>\n",
       "  </tbody>\n",
       "</table>\n",
       "<p>35174 rows × 6 columns</p>\n",
       "</div>"
      ],
      "text/plain": [
       "            Feed_Id Radio_Station                     Time_Stamp   Track   \\\n",
       "387446  feed_id_569           NaN  2019-01-16 03:44:25 +0000 UTC  Song_01   \n",
       "387447  feed_id_569           NaN  2019-01-01 01:34:12 +0000 UTC  Song_04   \n",
       "387448  feed_id_569           NaN  2019-01-09 06:27:42 +0000 UTC  Song_04   \n",
       "387449  feed_id_569           NaN  2019-01-11 09:09:31 +0000 UTC  Song_04   \n",
       "387450  feed_id_569           NaN  2019-01-16 00:40:36 +0000 UTC  Song_04   \n",
       "...             ...           ...                            ...      ...   \n",
       "422615  feed_id_663           NaN  2020-08-17 05:00:53 +0000 UTC  Song_04   \n",
       "422616  feed_id_663           NaN  2020-09-03 23:56:57 +0000 UTC  Song_04   \n",
       "422617  feed_id_663           NaN  2020-09-27 03:30:52 +0000 UTC  Song_04   \n",
       "422618  feed_id_663           NaN  2020-08-06 02:30:10 +0000 UTC  Song_08   \n",
       "422619  feed_id_663           NaN  2020-07-01 02:44:26 +0000 UTC  Song_05   \n",
       "\n",
       "           Artist      Feed_Name  \n",
       "387446  artist_02   feed_name_93  \n",
       "387447  artist_07   feed_name_93  \n",
       "387448  artist_07   feed_name_93  \n",
       "387449  artist_07   feed_name_93  \n",
       "387450  artist_07   feed_name_93  \n",
       "...           ...            ...  \n",
       "422615  artist_07  feed_name_915  \n",
       "422616  artist_07  feed_name_915  \n",
       "422617  artist_07  feed_name_915  \n",
       "422618  artist_01  feed_name_915  \n",
       "422619  artist_03  feed_name_915  \n",
       "\n",
       "[35174 rows x 6 columns]"
      ]
     },
     "execution_count": 23,
     "metadata": {},
     "output_type": "execute_result"
    }
   ],
   "source": [
    "radioconsumption_df.loc[radioconsumption_df['Radio_Station'].isnull()]\n"
   ]
  },
  {
   "cell_type": "markdown",
   "id": "d007adad",
   "metadata": {},
   "source": [
    "### Created mapping for Radio Station for Feed_Ids"
   ]
  },
  {
   "cell_type": "code",
   "execution_count": 24,
   "id": "d4c30202",
   "metadata": {},
   "outputs": [],
   "source": [
    "radioconsumption_df[\"Radio_Station\"].fillna(\"smp_station_name_abu\", inplace = True)"
   ]
  },
  {
   "cell_type": "code",
   "execution_count": 25,
   "id": "8a42b304",
   "metadata": {},
   "outputs": [
    {
     "data": {
      "text/html": [
       "<div>\n",
       "<style scoped>\n",
       "    .dataframe tbody tr th:only-of-type {\n",
       "        vertical-align: middle;\n",
       "    }\n",
       "\n",
       "    .dataframe tbody tr th {\n",
       "        vertical-align: top;\n",
       "    }\n",
       "\n",
       "    .dataframe thead th {\n",
       "        text-align: right;\n",
       "    }\n",
       "</style>\n",
       "<table border=\"1\" class=\"dataframe\">\n",
       "  <thead>\n",
       "    <tr style=\"text-align: right;\">\n",
       "      <th></th>\n",
       "      <th>Feed_Id</th>\n",
       "      <th>Radio_Station</th>\n",
       "      <th>Time_Stamp</th>\n",
       "      <th>Track</th>\n",
       "      <th>Artist</th>\n",
       "      <th>Feed_Name</th>\n",
       "    </tr>\n",
       "  </thead>\n",
       "  <tbody>\n",
       "    <tr>\n",
       "      <th>0</th>\n",
       "      <td>feed_id_1377</td>\n",
       "      <td>smp_station_name_294</td>\n",
       "      <td>2019-06-07 18:38:00 +0000 UTC</td>\n",
       "      <td>Song_02</td>\n",
       "      <td>artist_08</td>\n",
       "      <td>feed_name_1183</td>\n",
       "    </tr>\n",
       "    <tr>\n",
       "      <th>1</th>\n",
       "      <td>feed_id_1377</td>\n",
       "      <td>smp_station_name_294</td>\n",
       "      <td>2019-06-08 09:04:00 +0000 UTC</td>\n",
       "      <td>Song_02</td>\n",
       "      <td>artist_08</td>\n",
       "      <td>feed_name_1183</td>\n",
       "    </tr>\n",
       "    <tr>\n",
       "      <th>2</th>\n",
       "      <td>feed_id_1377</td>\n",
       "      <td>smp_station_name_294</td>\n",
       "      <td>2019-06-08 19:51:00 +0000 UTC</td>\n",
       "      <td>Song_02</td>\n",
       "      <td>artist_08</td>\n",
       "      <td>feed_name_1183</td>\n",
       "    </tr>\n",
       "    <tr>\n",
       "      <th>3</th>\n",
       "      <td>feed_id_1377</td>\n",
       "      <td>smp_station_name_294</td>\n",
       "      <td>2019-06-09 20:52:00 +0000 UTC</td>\n",
       "      <td>Song_02</td>\n",
       "      <td>artist_08</td>\n",
       "      <td>feed_name_1183</td>\n",
       "    </tr>\n",
       "    <tr>\n",
       "      <th>4</th>\n",
       "      <td>feed_id_1377</td>\n",
       "      <td>smp_station_name_294</td>\n",
       "      <td>2019-06-10 11:06:00 +0000 UTC</td>\n",
       "      <td>Song_02</td>\n",
       "      <td>artist_08</td>\n",
       "      <td>feed_name_1183</td>\n",
       "    </tr>\n",
       "  </tbody>\n",
       "</table>\n",
       "</div>"
      ],
      "text/plain": [
       "        Feed_Id         Radio_Station                     Time_Stamp   Track   \\\n",
       "0  feed_id_1377  smp_station_name_294  2019-06-07 18:38:00 +0000 UTC  Song_02   \n",
       "1  feed_id_1377  smp_station_name_294  2019-06-08 09:04:00 +0000 UTC  Song_02   \n",
       "2  feed_id_1377  smp_station_name_294  2019-06-08 19:51:00 +0000 UTC  Song_02   \n",
       "3  feed_id_1377  smp_station_name_294  2019-06-09 20:52:00 +0000 UTC  Song_02   \n",
       "4  feed_id_1377  smp_station_name_294  2019-06-10 11:06:00 +0000 UTC  Song_02   \n",
       "\n",
       "      Artist       Feed_Name  \n",
       "0  artist_08  feed_name_1183  \n",
       "1  artist_08  feed_name_1183  \n",
       "2  artist_08  feed_name_1183  \n",
       "3  artist_08  feed_name_1183  \n",
       "4  artist_08  feed_name_1183  "
      ]
     },
     "execution_count": 25,
     "metadata": {},
     "output_type": "execute_result"
    }
   ],
   "source": [
    "radioconsumption_df.head()"
   ]
  }
 ],
 "metadata": {
  "kernelspec": {
   "display_name": "Python 3",
   "language": "python",
   "name": "python3"
  },
  "language_info": {
   "codemirror_mode": {
    "name": "ipython",
    "version": 3
   },
   "file_extension": ".py",
   "mimetype": "text/x-python",
   "name": "python",
   "nbconvert_exporter": "python",
   "pygments_lexer": "ipython3",
   "version": "3.8.8"
  }
 },
 "nbformat": 4,
 "nbformat_minor": 5
}
